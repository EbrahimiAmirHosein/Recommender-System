{
  "cells": [
    {
      "cell_type": "markdown",
      "id": "39c75c65",
      "metadata": {
        "id": "39c75c65"
      },
      "source": [
        "# libraries"
      ]
    },
    {
      "cell_type": "code",
      "execution_count": null,
      "id": "2710f1b9",
      "metadata": {
        "id": "2710f1b9"
      },
      "outputs": [],
      "source": [
        "import numpy as np\n",
        "import pandas as pd\n",
        "from random import choice\n",
        "import time\n",
        "from tqdm import trange\n",
        "import itertools\n",
        "from itertools import combinations\n",
        "from multiprocessing import Pool\n",
        "import multiprocessing"
      ]
    },
    {
      "cell_type": "markdown",
      "id": "fd5a6d0f",
      "metadata": {
        "id": "fd5a6d0f"
      },
      "source": [
        "# Reading Data and store it"
      ]
    },
    {
      "cell_type": "code",
      "execution_count": null,
      "id": "ef8e97e4",
      "metadata": {
        "id": "ef8e97e4",
        "outputId": "9e273602-fe64-404d-d993-83058361b183"
      },
      "outputs": [
        {
          "data": {
            "text/html": [
              "<div>\n",
              "<style scoped>\n",
              "    .dataframe tbody tr th:only-of-type {\n",
              "        vertical-align: middle;\n",
              "    }\n",
              "\n",
              "    .dataframe tbody tr th {\n",
              "        vertical-align: top;\n",
              "    }\n",
              "\n",
              "    .dataframe thead th {\n",
              "        text-align: right;\n",
              "    }\n",
              "</style>\n",
              "<table border=\"1\" class=\"dataframe\">\n",
              "  <thead>\n",
              "    <tr style=\"text-align: right;\">\n",
              "      <th></th>\n",
              "      <th>Id</th>\n",
              "      <th>CreationDate</th>\n",
              "      <th>Score</th>\n",
              "      <th>ViewCount</th>\n",
              "      <th>OwnerUserId</th>\n",
              "      <th>CommentCount</th>\n",
              "      <th>ClosedDate</th>\n",
              "      <th>FavoriteCount</th>\n",
              "    </tr>\n",
              "  </thead>\n",
              "  <tbody>\n",
              "    <tr>\n",
              "      <th>253548</th>\n",
              "      <td>11227809</td>\n",
              "      <td>2012-06-27 13:51:36</td>\n",
              "      <td>9802</td>\n",
              "      <td>556194</td>\n",
              "      <td>87234</td>\n",
              "      <td>30</td>\n",
              "      <td></td>\n",
              "      <td>5418</td>\n",
              "    </tr>\n",
              "    <tr>\n",
              "      <th>138111</th>\n",
              "      <td>6841333</td>\n",
              "      <td>2011-07-27 08:15:58</td>\n",
              "      <td>3072</td>\n",
              "      <td>288013</td>\n",
              "      <td>342235</td>\n",
              "      <td>16</td>\n",
              "      <td></td>\n",
              "      <td>884</td>\n",
              "    </tr>\n",
              "    <tr>\n",
              "      <th>185096</th>\n",
              "      <td>8710619</td>\n",
              "      <td>2012-01-03 10:10:32</td>\n",
              "      <td>1852</td>\n",
              "      <td>107055</td>\n",
              "      <td>1127571</td>\n",
              "      <td>8</td>\n",
              "      <td></td>\n",
              "      <td>436</td>\n",
              "    </tr>\n",
              "    <tr>\n",
              "      <th>256</th>\n",
              "      <td>40480</td>\n",
              "      <td>2008-09-02 20:14:29</td>\n",
              "      <td>1832</td>\n",
              "      <td>587017</td>\n",
              "      <td>4315</td>\n",
              "      <td>14</td>\n",
              "      <td></td>\n",
              "      <td>974</td>\n",
              "    </tr>\n",
              "    <tr>\n",
              "      <th>2775</th>\n",
              "      <td>271526</td>\n",
              "      <td>2008-11-07 08:31:40</td>\n",
              "      <td>1728</td>\n",
              "      <td>524178</td>\n",
              "      <td>34856</td>\n",
              "      <td>26</td>\n",
              "      <td></td>\n",
              "      <td>835</td>\n",
              "    </tr>\n",
              "  </tbody>\n",
              "</table>\n",
              "</div>"
            ],
            "text/plain": [
              "              Id         CreationDate  Score  ViewCount OwnerUserId  \\\n",
              "253548  11227809  2012-06-27 13:51:36   9802     556194       87234   \n",
              "138111   6841333  2011-07-27 08:15:58   3072     288013      342235   \n",
              "185096   8710619  2012-01-03 10:10:32   1852     107055     1127571   \n",
              "256        40480  2008-09-02 20:14:29   1832     587017        4315   \n",
              "2775      271526  2008-11-07 08:31:40   1728     524178       34856   \n",
              "\n",
              "        CommentCount ClosedDate  FavoriteCount  \n",
              "253548            30                      5418  \n",
              "138111            16                       884  \n",
              "185096             8                       436  \n",
              "256               14                       974  \n",
              "2775              26                       835  "
            ]
          },
          "execution_count": 37,
          "metadata": {},
          "output_type": "execute_result"
        }
      ],
      "source": [
        "Tags = pd.read_csv(\"SOF Dataset/tags.txt\" , sep=\"\t\" )\n",
        "Tags = Tags.rename(columns={'Id': 'QId'})\n",
        "Questions = pd.read_csv(\n",
        "    \"SOF Dataset/Questions.txt\", encoding=\"UTF-16 LE\", keep_default_na=False\n",
        ")\n",
        "Questions = Questions.sort_values([\"Score\", \"ViewCount\"], ascending=(False, False))\n",
        "Questions.head()"
      ]
    },
    {
      "cell_type": "code",
      "execution_count": null,
      "id": "05a55ec9",
      "metadata": {
        "id": "05a55ec9"
      },
      "outputs": [],
      "source": [
        "def get_related_tags (Tags,inp_tag):\n",
        "    l = Tags.loc[Tags['Tags']==inp_tag]['QId'].to_list()\n",
        "    link = []\n",
        "    link = Tags.loc[Tags['QId'].isin(l) , 'Tags'].tolist()\n",
        "    return (set(link))"
      ]
    },
    {
      "cell_type": "code",
      "execution_count": null,
      "id": "de47cfcd",
      "metadata": {
        "id": "de47cfcd"
      },
      "outputs": [],
      "source": [
        "def similarity(Tags,inp_tags):\n",
        "    rel_tags_1 = get_related_tags (Tags,inp_tags[0])\n",
        "    rel_tags_2 = get_related_tags (Tags,inp_tags[1])\n",
        "    similarity = [sim for sim in rel_tags_1 if sim in rel_tags_2]\n",
        "    return len(similarity) / (len(rel_tags_2) + len(rel_tags_1))"
      ]
    },
    {
      "cell_type": "code",
      "execution_count": null,
      "id": "3936054c",
      "metadata": {
        "id": "3936054c"
      },
      "outputs": [],
      "source": [
        "def find_tags(dataset,s_range,e_range):\n",
        "    dataset['Tags'].value_counts()\n",
        "    countdt = pd.DataFrame(dataset['Tags'].value_counts()).rename_axis('unique_values').reset_index()\n",
        "    countdt.columns = ['unique_values','count']\n",
        "    return countdt[(countdt['count'] >= s_range) & (countdt['count'] < e_range)]"
      ]
    },
    {
      "cell_type": "code",
      "execution_count": null,
      "id": "29c692b6",
      "metadata": {
        "id": "29c692b6"
      },
      "outputs": [],
      "source": [
        "def findTop(tags_comb):\n",
        "    a = []\n",
        "    for i in range(len(tags_comb)):\n",
        "        a.append((tags_comb[i],similarity(Tags,[tags_comb[i][0] , tags_comb[i][1]])))\n",
        "    return a"
      ]
    },
    {
      "cell_type": "code",
      "execution_count": null,
      "id": "650e9e4b",
      "metadata": {
        "scrolled": false,
        "id": "650e9e4b",
        "outputId": "8e2dc6f1-556f-4f12-ed59-69ba29392f88"
      },
      "outputs": [
        {
          "data": {
            "text/html": [
              "<div>\n",
              "<style scoped>\n",
              "    .dataframe tbody tr th:only-of-type {\n",
              "        vertical-align: middle;\n",
              "    }\n",
              "\n",
              "    .dataframe tbody tr th {\n",
              "        vertical-align: top;\n",
              "    }\n",
              "\n",
              "    .dataframe thead th {\n",
              "        text-align: right;\n",
              "    }\n",
              "</style>\n",
              "<table border=\"1\" class=\"dataframe\">\n",
              "  <thead>\n",
              "    <tr style=\"text-align: right;\">\n",
              "      <th></th>\n",
              "      <th>Tags</th>\n",
              "    </tr>\n",
              "  </thead>\n",
              "  <tbody>\n",
              "    <tr>\n",
              "      <th>167</th>\n",
              "      <td>memory</td>\n",
              "    </tr>\n",
              "    <tr>\n",
              "      <th>910</th>\n",
              "      <td>jpa</td>\n",
              "    </tr>\n",
              "    <tr>\n",
              "      <th>2841</th>\n",
              "      <td>string</td>\n",
              "    </tr>\n",
              "    <tr>\n",
              "      <th>3825</th>\n",
              "      <td>android</td>\n",
              "    </tr>\n",
              "    <tr>\n",
              "      <th>4439</th>\n",
              "      <td>eclipse</td>\n",
              "    </tr>\n",
              "    <tr>\n",
              "      <th>...</th>\n",
              "      <td>...</td>\n",
              "    </tr>\n",
              "    <tr>\n",
              "      <th>1852771</th>\n",
              "      <td>initialization</td>\n",
              "    </tr>\n",
              "    <tr>\n",
              "      <th>1853252</th>\n",
              "      <td>xml</td>\n",
              "    </tr>\n",
              "    <tr>\n",
              "      <th>1853886</th>\n",
              "      <td>date</td>\n",
              "    </tr>\n",
              "    <tr>\n",
              "      <th>1854512</th>\n",
              "      <td>http</td>\n",
              "    </tr>\n",
              "    <tr>\n",
              "      <th>1854965</th>\n",
              "      <td>debugging</td>\n",
              "    </tr>\n",
              "  </tbody>\n",
              "</table>\n",
              "<p>2213 rows × 1 columns</p>\n",
              "</div>"
            ],
            "text/plain": [
              "                   Tags\n",
              "167              memory\n",
              "910                 jpa\n",
              "2841             string\n",
              "3825            android\n",
              "4439            eclipse\n",
              "...                 ...\n",
              "1852771  initialization\n",
              "1853252             xml\n",
              "1853886            date\n",
              "1854512            http\n",
              "1854965       debugging\n",
              "\n",
              "[2213 rows x 1 columns]"
            ]
          },
          "execution_count": 42,
          "metadata": {},
          "output_type": "execute_result"
        }
      ],
      "source": [
        "Top_picks_ById = Questions[:1000]['Id'].tolist()\n",
        "Tags = Tags.groupby('Tags').filter(lambda x : len(x)>1)\n",
        "Top_picks_ByTag = Tags.loc[Tags['QId'].isin(Top_picks_ById) , 'Tags']\n",
        "Top_picks_ByTag = pd.DataFrame(Top_picks_ByTag)\n",
        "Top_picks_ByTag"
      ]
    },
    {
      "cell_type": "code",
      "execution_count": null,
      "id": "4e387b7b",
      "metadata": {
        "id": "4e387b7b"
      },
      "outputs": [],
      "source": [
        "totalTags = find_tags(Top_picks_ByTag,2,67)['unique_values'].tolist()"
      ]
    },
    {
      "cell_type": "code",
      "execution_count": null,
      "id": "eee790af",
      "metadata": {
        "id": "eee790af",
        "outputId": "127c40f6-c3de-4d37-f1bb-d48ceb8ee5c9"
      },
      "outputs": [
        {
          "data": {
            "text/plain": [
              "49141"
            ]
          },
          "execution_count": 20,
          "metadata": {},
          "output_type": "execute_result"
        }
      ],
      "source": [
        "tags_comb = list(set(combinations(totalTags, 2)))\n",
        "len(tags_comb)"
      ]
    },
    {
      "cell_type": "code",
      "execution_count": null,
      "id": "77f6645d",
      "metadata": {
        "id": "77f6645d"
      },
      "outputs": [],
      "source": [
        "pool = multiprocessing.Pool(8)\n",
        "tops = pool.map(findTop,[tags_comb])"
      ]
    },
    {
      "cell_type": "code",
      "execution_count": null,
      "id": "071bc683",
      "metadata": {
        "id": "071bc683"
      },
      "outputs": [],
      "source": [
        "top10 = tops[0]"
      ]
    },
    {
      "cell_type": "code",
      "execution_count": null,
      "id": "94cb9006",
      "metadata": {
        "id": "94cb9006",
        "outputId": "173cbad8-b809-4fca-b1c3-5b96a3dbb676"
      },
      "outputs": [
        {
          "data": {
            "text/plain": [
              "[(('hibernate', 'jpa'), 0.31517128874388256),\n",
              " (('servlets', 'jsp'), 0.30027207519168936),\n",
              " (('pass-by-reference', 'pass-by-value'), 0.2985781990521327),\n",
              " (('junit', 'unit-testing'), 0.29425182481751827),\n",
              " (('spring', 'spring-mvc'), 0.2936039650696247),\n",
              " (('jdbc', 'mysql'), 0.28785607196401797),\n",
              " (('loops', 'for-loop'), 0.2868080094228504),\n",
              " (('spring', 'java-ee'), 0.28620689655172415),\n",
              " (('arrays', 'arraylist'), 0.28309979982842437),\n",
              " (('character-encoding', 'utf-8'), 0.28152753108348133)]"
            ]
          },
          "execution_count": 24,
          "metadata": {},
          "output_type": "execute_result"
        }
      ],
      "source": [
        "top10.sort(key=lambda tup: tup[1], reverse=True)\n",
        "top10[:10]"
      ]
    }
  ],
  "metadata": {
    "kernelspec": {
      "display_name": "Python 3",
      "language": "python",
      "name": "python3"
    },
    "language_info": {
      "codemirror_mode": {
        "name": "ipython",
        "version": 3
      },
      "file_extension": ".py",
      "mimetype": "text/x-python",
      "name": "python",
      "nbconvert_exporter": "python",
      "pygments_lexer": "ipython3",
      "version": "3.8.10"
    },
    "colab": {
      "provenance": []
    }
  },
  "nbformat": 4,
  "nbformat_minor": 5
}