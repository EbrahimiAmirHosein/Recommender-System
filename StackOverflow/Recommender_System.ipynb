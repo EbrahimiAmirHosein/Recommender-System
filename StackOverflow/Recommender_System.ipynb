{
  "cells": [
    {
      "cell_type": "markdown",
      "id": "26f152e0",
      "metadata": {
        "id": "26f152e0"
      },
      "source": [
        "# Libraries"
      ]
    },
    {
      "cell_type": "code",
      "execution_count": null,
      "id": "85b9fec7",
      "metadata": {
        "id": "85b9fec7"
      },
      "outputs": [],
      "source": [
        "import numpy as np\n",
        "import pandas as pd\n",
        "from random import choice\n",
        "import time\n",
        "from tqdm import trange"
      ]
    },
    {
      "cell_type": "markdown",
      "id": "5923c706",
      "metadata": {
        "id": "5923c706"
      },
      "source": [
        "## Get question IDs sorted based on Scores\n",
        "\n",
        "> **Inputs** : 1_ Tags data-set\n",
        "           2_ Question data-set\n",
        "           3_ Input tag\n",
        "           \n",
        "> **Outputs** : Sorted Question's ID based on Score"
      ]
    },
    {
      "cell_type": "code",
      "execution_count": null,
      "id": "b837f700",
      "metadata": {
        "id": "b837f700"
      },
      "outputs": [],
      "source": [
        "def getTopQid(Tags, Questions, inp_tag):\n",
        "    ID_Score_Q = []\n",
        "    qid_tags = Tags[Tags[\"Tags\"] == inp_tag][\"QId\"]\n",
        "    for qtags in qid_tags:\n",
        "        ID_Score_Q.append(\n",
        "            (qtags, Questions[Questions[\"Id\"] == qtags][\"Score\"].values[0])\n",
        "        )\n",
        "    ID_Score_Q.sort(key=lambda tup: tup[1], reverse=True)\n",
        "    return ID_Score_Q"
      ]
    },
    {
      "cell_type": "markdown",
      "id": "a0a109c5",
      "metadata": {
        "id": "a0a109c5"
      },
      "source": [
        "## Get top Tags sorted based on QuestionID's Score\n",
        "\n",
        "    Returning top 40 QuestionID's Tags"
      ]
    },
    {
      "cell_type": "code",
      "execution_count": null,
      "id": "20276aed",
      "metadata": {
        "id": "20276aed"
      },
      "outputs": [],
      "source": [
        "def TopQTag(ID_Score_Q, Tags):\n",
        "    first_tuple_elements = []\n",
        "    for a_tuple in ID_Score_Q:\n",
        "        first_tuple_elements.append(a_tuple[0])\n",
        "    top_40 = first_tuple_elements[:40]\n",
        "    IdScore_top_40 = []\n",
        "    for items in top_40:\n",
        "        IdScore_top_40.append(Tags.loc[Tags[\"QId\"] == items, \"Tags\"].tolist())\n",
        "    return IdScore_top_40"
      ]
    },
    {
      "cell_type": "markdown",
      "id": "565b099f",
      "metadata": {
        "id": "565b099f"
      },
      "source": [
        "## Finding Intersections between top 40's QIDs"
      ]
    },
    {
      "cell_type": "code",
      "execution_count": null,
      "id": "af897889",
      "metadata": {
        "id": "af897889"
      },
      "outputs": [],
      "source": [
        "def Tagwithsimilarity(IdScore_top_40, inp_tag):\n",
        "    similarity_top40 = []\n",
        "    for i in range(len(IdScore_top_40)):\n",
        "        for j in range(len(IdScore_top_40[i])):\n",
        "            repeating = 0\n",
        "            for k in range(len(IdScore_top_40)):\n",
        "                repeating += IdScore_top_40[k].count(IdScore_top_40[i][j])\n",
        "            if (\n",
        "                IdScore_top_40[i][j],\n",
        "                repeating,\n",
        "            ) not in similarity_top40 and IdScore_top_40[i][j] != inp_tag:\n",
        "                similarity_top40.append((IdScore_top_40[i][j], repeating))\n",
        "    similarity_top40.sort(key=lambda tup: tup[1], reverse=True)\n",
        "    Top_5 = []\n",
        "    for a_tuple in similarity_top40[:5]:\n",
        "        Top_5.append(a_tuple[0])\n",
        "    return Top_5"
      ]
    },
    {
      "cell_type": "markdown",
      "id": "4a26807f",
      "metadata": {
        "id": "4a26807f"
      },
      "source": [
        "## Recommender System for tags"
      ]
    },
    {
      "cell_type": "code",
      "execution_count": null,
      "id": "01ec39d0",
      "metadata": {
        "id": "01ec39d0"
      },
      "outputs": [],
      "source": [
        "def Recommneder(Tags, Questions, inp_tag):\n",
        "    ID_Score_Q = getTopQid(Tags, Questions, inp_tag)\n",
        "    IdScore_top_40 = TopQTag(ID_Score_Q, Tags)\n",
        "    similarity_top5 = Tagwithsimilarity(IdScore_top_40, inp_tag)\n",
        "    print(\n",
        "        f\"Input_tag: {inp_tag} \\nRecommended tags: {similarity_top5} \\n\"\n",
        "    )"
      ]
    },
    {
      "cell_type": "markdown",
      "id": "9225a056",
      "metadata": {
        "id": "9225a056"
      },
      "source": [
        "## Reading Data"
      ]
    },
    {
      "cell_type": "code",
      "execution_count": null,
      "id": "6b49a817",
      "metadata": {
        "id": "6b49a817",
        "outputId": "938f2e78-6a48-494d-8396-6ba8e104982b"
      },
      "outputs": [
        {
          "data": {
            "text/html": [
              "<div>\n",
              "<style scoped>\n",
              "    .dataframe tbody tr th:only-of-type {\n",
              "        vertical-align: middle;\n",
              "    }\n",
              "\n",
              "    .dataframe tbody tr th {\n",
              "        vertical-align: top;\n",
              "    }\n",
              "\n",
              "    .dataframe thead th {\n",
              "        text-align: right;\n",
              "    }\n",
              "</style>\n",
              "<table border=\"1\" class=\"dataframe\">\n",
              "  <thead>\n",
              "    <tr style=\"text-align: right;\">\n",
              "      <th></th>\n",
              "      <th>Id</th>\n",
              "      <th>CreationDate</th>\n",
              "      <th>Score</th>\n",
              "      <th>ViewCount</th>\n",
              "      <th>OwnerUserId</th>\n",
              "      <th>CommentCount</th>\n",
              "      <th>ClosedDate</th>\n",
              "      <th>FavoriteCount</th>\n",
              "    </tr>\n",
              "  </thead>\n",
              "  <tbody>\n",
              "    <tr>\n",
              "      <th>253548</th>\n",
              "      <td>11227809</td>\n",
              "      <td>2012-06-27 13:51:36</td>\n",
              "      <td>9802</td>\n",
              "      <td>556194</td>\n",
              "      <td>87234</td>\n",
              "      <td>30</td>\n",
              "      <td></td>\n",
              "      <td>5418</td>\n",
              "    </tr>\n",
              "    <tr>\n",
              "      <th>138111</th>\n",
              "      <td>6841333</td>\n",
              "      <td>2011-07-27 08:15:58</td>\n",
              "      <td>3072</td>\n",
              "      <td>288013</td>\n",
              "      <td>342235</td>\n",
              "      <td>16</td>\n",
              "      <td></td>\n",
              "      <td>884</td>\n",
              "    </tr>\n",
              "    <tr>\n",
              "      <th>185096</th>\n",
              "      <td>8710619</td>\n",
              "      <td>2012-01-03 10:10:32</td>\n",
              "      <td>1852</td>\n",
              "      <td>107055</td>\n",
              "      <td>1127571</td>\n",
              "      <td>8</td>\n",
              "      <td></td>\n",
              "      <td>436</td>\n",
              "    </tr>\n",
              "    <tr>\n",
              "      <th>256</th>\n",
              "      <td>40480</td>\n",
              "      <td>2008-09-02 20:14:29</td>\n",
              "      <td>1832</td>\n",
              "      <td>587017</td>\n",
              "      <td>4315</td>\n",
              "      <td>14</td>\n",
              "      <td></td>\n",
              "      <td>974</td>\n",
              "    </tr>\n",
              "    <tr>\n",
              "      <th>2775</th>\n",
              "      <td>271526</td>\n",
              "      <td>2008-11-07 08:31:40</td>\n",
              "      <td>1728</td>\n",
              "      <td>524178</td>\n",
              "      <td>34856</td>\n",
              "      <td>26</td>\n",
              "      <td></td>\n",
              "      <td>835</td>\n",
              "    </tr>\n",
              "  </tbody>\n",
              "</table>\n",
              "</div>"
            ],
            "text/plain": [
              "              Id         CreationDate  Score  ViewCount OwnerUserId  \\\n",
              "253548  11227809  2012-06-27 13:51:36   9802     556194       87234   \n",
              "138111   6841333  2011-07-27 08:15:58   3072     288013      342235   \n",
              "185096   8710619  2012-01-03 10:10:32   1852     107055     1127571   \n",
              "256        40480  2008-09-02 20:14:29   1832     587017        4315   \n",
              "2775      271526  2008-11-07 08:31:40   1728     524178       34856   \n",
              "\n",
              "        CommentCount ClosedDate  FavoriteCount  \n",
              "253548            30                      5418  \n",
              "138111            16                       884  \n",
              "185096             8                       436  \n",
              "256               14                       974  \n",
              "2775              26                       835  "
            ]
          },
          "execution_count": 86,
          "metadata": {},
          "output_type": "execute_result"
        }
      ],
      "source": [
        "Questions = pd.read_csv(\n",
        "    \"SOF Dataset/Questions.txt\", encoding=\"UTF-16 LE\", keep_default_na=False\n",
        ")\n",
        "Questions = Questions.sort_values([\"Score\", \"ViewCount\"], ascending=(False, False))\n",
        "Questions.head()"
      ]
    },
    {
      "cell_type": "code",
      "execution_count": null,
      "id": "a30b8173",
      "metadata": {
        "id": "a30b8173",
        "outputId": "39e83d0d-77e2-4bcf-ff45-87d64df82b21"
      },
      "outputs": [
        {
          "data": {
            "text/html": [
              "<div>\n",
              "<style scoped>\n",
              "    .dataframe tbody tr th:only-of-type {\n",
              "        vertical-align: middle;\n",
              "    }\n",
              "\n",
              "    .dataframe tbody tr th {\n",
              "        vertical-align: top;\n",
              "    }\n",
              "\n",
              "    .dataframe thead th {\n",
              "        text-align: right;\n",
              "    }\n",
              "</style>\n",
              "<table border=\"1\" class=\"dataframe\">\n",
              "  <thead>\n",
              "    <tr style=\"text-align: right;\">\n",
              "      <th></th>\n",
              "      <th>QId</th>\n",
              "      <th>Tags</th>\n",
              "    </tr>\n",
              "  </thead>\n",
              "  <tbody>\n",
              "    <tr>\n",
              "      <th>0</th>\n",
              "      <td>2288942</td>\n",
              "      <td>user-interface</td>\n",
              "    </tr>\n",
              "    <tr>\n",
              "      <th>1</th>\n",
              "      <td>4433442</td>\n",
              "      <td>canvas</td>\n",
              "    </tr>\n",
              "    <tr>\n",
              "      <th>2</th>\n",
              "      <td>6381190</td>\n",
              "      <td>shortcut</td>\n",
              "    </tr>\n",
              "    <tr>\n",
              "      <th>3</th>\n",
              "      <td>27466868</td>\n",
              "      <td>jboss7.x</td>\n",
              "    </tr>\n",
              "    <tr>\n",
              "      <th>4</th>\n",
              "      <td>8375328</td>\n",
              "      <td>math</td>\n",
              "    </tr>\n",
              "  </tbody>\n",
              "</table>\n",
              "</div>"
            ],
            "text/plain": [
              "        QId            Tags\n",
              "0   2288942  user-interface\n",
              "1   4433442          canvas\n",
              "2   6381190        shortcut\n",
              "3  27466868        jboss7.x\n",
              "4   8375328            math"
            ]
          },
          "execution_count": 87,
          "metadata": {},
          "output_type": "execute_result"
        }
      ],
      "source": [
        "Tags = pd.read_csv(\"SOF Dataset/tags.txt\" , sep=\"\t\" )\n",
        "Tags = Tags.rename(columns={'Id': 'QId'})\n",
        "Tags.head()"
      ]
    },
    {
      "cell_type": "markdown",
      "id": "d5649579",
      "metadata": {
        "id": "d5649579"
      },
      "source": [
        "# Input Tags to recommender system"
      ]
    },
    {
      "cell_type": "code",
      "execution_count": null,
      "id": "897b4b49",
      "metadata": {
        "id": "897b4b49"
      },
      "outputs": [],
      "source": [
        "inp_tags = ['jax-rs','intellij-idea','user-interface']"
      ]
    },
    {
      "cell_type": "markdown",
      "id": "59e92dd3",
      "metadata": {
        "id": "59e92dd3"
      },
      "source": [
        "# Run Recommender system"
      ]
    },
    {
      "cell_type": "code",
      "execution_count": null,
      "id": "5dc4feb4",
      "metadata": {
        "id": "5dc4feb4",
        "outputId": "0741fbf7-4188-4cac-8b82-0c8403cd1607"
      },
      "outputs": [
        {
          "name": "stderr",
          "output_type": "stream",
          "text": [
            " 33%|███▎      | 1/3 [00:05<00:11,  5.91s/it]"
          ]
        },
        {
          "name": "stdout",
          "output_type": "stream",
          "text": [
            "Input_tag: jax-rs \n",
            "Recommended tags: ['jersey', 'rest', 'java-ee', 'web-services', 'servlets'] \n",
            "\n"
          ]
        },
        {
          "name": "stderr",
          "output_type": "stream",
          "text": [
            "\r",
            " 67%|██████▋   | 2/3 [00:18<00:09,  9.64s/it]"
          ]
        },
        {
          "name": "stdout",
          "output_type": "stream",
          "text": [
            "Input_tag: intellij-idea \n",
            "Recommended tags: ['eclipse', 'ide', 'osx', 'android', 'android-studio'] \n",
            "\n"
          ]
        },
        {
          "name": "stderr",
          "output_type": "stream",
          "text": [
            "100%|██████████| 3/3 [00:44<00:00, 14.86s/it]"
          ]
        },
        {
          "name": "stdout",
          "output_type": "stream",
          "text": [
            "Input_tag: user-interface \n",
            "Recommended tags: ['swing', 'awt', 'android', 'layout', 'jlabel'] \n",
            "\n"
          ]
        },
        {
          "name": "stderr",
          "output_type": "stream",
          "text": [
            "\n"
          ]
        }
      ],
      "source": [
        "for t in trange(0, len(inp_tags),miniters=1):\n",
        "    Recommneder(Tags,Questions,inp_tags[t])"
      ]
    }
  ],
  "metadata": {
    "kernelspec": {
      "display_name": "Python 3",
      "language": "python",
      "name": "python3"
    },
    "language_info": {
      "codemirror_mode": {
        "name": "ipython",
        "version": 3
      },
      "file_extension": ".py",
      "mimetype": "text/x-python",
      "name": "python",
      "nbconvert_exporter": "python",
      "pygments_lexer": "ipython3",
      "version": "3.8.10"
    },
    "colab": {
      "provenance": []
    }
  },
  "nbformat": 4,
  "nbformat_minor": 5
}